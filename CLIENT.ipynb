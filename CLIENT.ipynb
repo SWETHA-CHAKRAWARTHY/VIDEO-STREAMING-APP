{
 "cells": [
  {
   "cell_type": "code",
   "execution_count": null,
   "id": "c7652f09",
   "metadata": {},
   "outputs": [
    {
     "name": "stdout",
     "output_type": "stream",
     "text": [
      "\n",
      "\n",
      "\t\t\t[>>>   CLIENT SUCCESSFULLY ESTABLISHED CONNECTION WITH THE SERVER   <<<]\n",
      "\n",
      "\n"
     ]
    }
   ],
   "source": [
    "import socket as s\n",
    "import cv2\n",
    "import pickle as p\n",
    "import struct as st\n",
    "\n",
    "soc = s.socket(s.AF_INET,s.SOCK_STREAM)\n",
    "hn = s.gethostname()\n",
    "ip=s.gethostbyname(hn)\n",
    "port = 1122\n",
    "soc.connect((ip,port))\n",
    "print('\\n\\n\\t\\t\\t[>>>   CLIENT SUCCESSFULLY ESTABLISHED CONNECTION WITH THE SERVER   <<<]\\n\\n')\n",
    "data = b\"\"\n",
    "size = st.calcsize(\"Q\")\n",
    "\n",
    "try:\n",
    "    while True:\n",
    "        while len(data) < size:\n",
    "            adata = soc.recv(4096) \n",
    "            if not adata: break\n",
    "            data+=adata\n",
    "        pmsize = data[:size]\n",
    "        data = data[size:]\n",
    "        msize = st.unpack(\"Q\",pmsize)[0]\n",
    "\n",
    "        while len(data) < msize:\n",
    "            data += soc.recv(4096)\n",
    "        fdata = data[:msize]\n",
    "        data  = data[msize:]\n",
    "        stream = p.loads(fdata)\n",
    "        cv2.imshow(\"LIVE VIDEO STREAMING\",stream)\n",
    "        #101 is the ASCII value of 'e'\n",
    "        if cv2.waitKey(1) == 101:\n",
    "            cv2.destroyAllWindows()\n",
    "            break\n",
    "except:\n",
    "    cv2.destroyAllWindows()\n",
    "soc.close()"
   ]
  },
  {
   "cell_type": "code",
   "execution_count": null,
   "id": "43e5c36f",
   "metadata": {},
   "outputs": [],
   "source": []
  }
 ],
 "metadata": {
  "kernelspec": {
   "display_name": "Python 3",
   "language": "python",
   "name": "python3"
  },
  "language_info": {
   "codemirror_mode": {
    "name": "ipython",
    "version": 3
   },
   "file_extension": ".py",
   "mimetype": "text/x-python",
   "name": "python",
   "nbconvert_exporter": "python",
   "pygments_lexer": "ipython3",
   "version": "3.8.8"
  }
 },
 "nbformat": 4,
 "nbformat_minor": 5
}
