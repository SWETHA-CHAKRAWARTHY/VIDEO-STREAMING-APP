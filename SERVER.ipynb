{
 "cells": [
  {
   "cell_type": "code",
   "execution_count": null,
   "id": "acf0bb2d",
   "metadata": {},
   "outputs": [
    {
     "name": "stdout",
     "output_type": "stream",
     "text": [
      "\n",
      "\n",
      "\t\t\t\t[>>>   SERVER READY FOR CLIENT CONNECTION   <<<]\n",
      "\n",
      "\n"
     ]
    }
   ],
   "source": [
    "import socket as s\n",
    "import cv2\n",
    "import pickle as p\n",
    "import struct as st\n",
    "\n",
    "soc = s.socket(s.AF_INET,s.SOCK_STREAM)\n",
    "hn  = s.gethostname()\n",
    "ip=s.gethostbyname(hn)\n",
    "port = 1122\n",
    "soc.bind((ip,port))\n",
    "print('\\n\\n\\t\\t\\t\\t[>>>   SERVER READY FOR CLIENT CONNECTION   <<<]\\n\\n')\n",
    "soc.listen(5)\n",
    "c,aip = soc.accept()\n",
    "cap = cv2.VideoCapture(0)\n",
    "try:\n",
    "    while True:\n",
    "        ret,stream = cap.read()\n",
    "        a = p.dumps(stream)\n",
    "        size = st.pack(\"Q\",len(a))+a\n",
    "        c.sendall(size)\n",
    "\n",
    "        cv2.imshow('TRANSFERING LIVE STREAM',stream)\n",
    "        #101 is the ASCII value of 'e'\n",
    "        if cv2.waitKey(1) == 101:\n",
    "            cv2.destroyAllWindows()\n",
    "            cap.release()\n",
    "            break\n",
    "except:\n",
    "    cv2.destroyAllWindows()\n",
    "c.close()\n",
    "cap.release()\n"
   ]
  },
  {
   "cell_type": "code",
   "execution_count": null,
   "id": "7a1c1343",
   "metadata": {},
   "outputs": [],
   "source": []
  }
 ],
 "metadata": {
  "kernelspec": {
   "display_name": "Python 3",
   "language": "python",
   "name": "python3"
  },
  "language_info": {
   "codemirror_mode": {
    "name": "ipython",
    "version": 3
   },
   "file_extension": ".py",
   "mimetype": "text/x-python",
   "name": "python",
   "nbconvert_exporter": "python",
   "pygments_lexer": "ipython3",
   "version": "3.8.8"
  }
 },
 "nbformat": 4,
 "nbformat_minor": 5
}
